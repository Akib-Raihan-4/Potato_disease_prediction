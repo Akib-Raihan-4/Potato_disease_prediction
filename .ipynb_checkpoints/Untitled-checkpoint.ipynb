{
 "cells": [
  {
   "cell_type": "code",
   "execution_count": 1,
   "id": "66f7c8d1",
   "metadata": {},
   "outputs": [],
   "source": [
    "from flask import Flask, jsonify\n",
    "from flask_cors import CORS\n",
    "\n",
    "app = Flask(__name__)\n",
    "CORS(app)\n",
    "\n",
    "@app.route(\"/\", methods = ['GET'])\n",
    "def hello():\n",
    "    return jsonify({\"Server\": \"blah\"})\n",
    "\n",
    "@app.route(\"/predict\", methods = ['POST'])\n",
    "\n",
    "def predict():\n",
    "    return jsonify({\"Server\": \"Choleh !\"})"
   ]
  },
  {
   "cell_type": "code",
   "execution_count": null,
   "id": "e0295a3a",
   "metadata": {},
   "outputs": [
    {
     "name": "stdout",
     "output_type": "stream",
     "text": [
      " * Serving Flask app \"__main__\" (lazy loading)\n",
      " * Environment: production\n",
      "\u001b[31m   WARNING: This is a development server. Do not use it in a production deployment.\u001b[0m\n",
      "\u001b[2m   Use a production WSGI server instead.\u001b[0m\n",
      " * Debug mode: off\n"
     ]
    },
    {
     "name": "stderr",
     "output_type": "stream",
     "text": [
      " * Running on http://127.0.0.1:5000/ (Press CTRL+C to quit)\n",
      "127.0.0.1 - - [26/Jul/2023 01:16:51] \"GET / HTTP/1.1\" 200 -\n",
      "127.0.0.1 - - [26/Jul/2023 01:16:55] \"GET /predict HTTP/1.1\" 405 -\n"
     ]
    }
   ],
   "source": [
    "app.run()"
   ]
  },
  {
   "cell_type": "code",
   "execution_count": null,
   "id": "ac32bb89",
   "metadata": {},
   "outputs": [
    {
     "name": "stdout",
     "output_type": "stream",
     "text": [
      " * Serving Flask app \"__main__\" (lazy loading)\n",
      " * Environment: production\n",
      "\u001b[31m   WARNING: This is a development server. Do not use it in a production deployment.\u001b[0m\n",
      "\u001b[2m   Use a production WSGI server instead.\u001b[0m\n",
      " * Debug mode: off\n"
     ]
    },
    {
     "name": "stderr",
     "output_type": "stream",
     "text": [
      " * Running on http://127.0.0.1:5000/ (Press CTRL+C to quit)\n",
      "[2023-07-26 01:30:27,098] ERROR in app: Exception on /predict [POST]\n",
      "Traceback (most recent call last):\n",
      "  File \"C:\\Users\\excal\\anaconda3\\lib\\site-packages\\flask\\app.py\", line 2447, in wsgi_app\n",
      "    response = self.full_dispatch_request()\n",
      "  File \"C:\\Users\\excal\\anaconda3\\lib\\site-packages\\flask\\app.py\", line 1952, in full_dispatch_request\n",
      "    rv = self.handle_user_exception(e)\n",
      "  File \"C:\\Users\\excal\\anaconda3\\lib\\site-packages\\flask_cors\\extension.py\", line 176, in wrapped_function\n",
      "    return cors_after_request(app.make_response(f(*args, **kwargs)))\n",
      "  File \"C:\\Users\\excal\\anaconda3\\lib\\site-packages\\flask\\app.py\", line 1821, in handle_user_exception\n",
      "    reraise(exc_type, exc_value, tb)\n",
      "  File \"C:\\Users\\excal\\anaconda3\\lib\\site-packages\\flask\\_compat.py\", line 39, in reraise\n",
      "    raise value\n",
      "  File \"C:\\Users\\excal\\anaconda3\\lib\\site-packages\\flask\\app.py\", line 1950, in full_dispatch_request\n",
      "    rv = self.dispatch_request()\n",
      "  File \"C:\\Users\\excal\\anaconda3\\lib\\site-packages\\flask\\app.py\", line 1936, in dispatch_request\n",
      "    return self.view_functions[rule.endpoint](**req.view_args)\n",
      "  File \"C:\\Users\\excal\\AppData\\Local\\Temp\\ipykernel_5068\\4288970403.py\", line 28, in predict_image\n",
      "    img = tf.keras.preprocessing.image.load_img(file, target_size=(image_height, image_width))\n",
      "NameError: name 'image_height' is not defined\n",
      "127.0.0.1 - - [26/Jul/2023 01:30:27] \"POST /predict HTTP/1.1\" 500 -\n"
     ]
    }
   ],
   "source": [
    "from flask import Flask, request, jsonify\n",
    "import tensorflow as tf\n",
    "import numpy as np\n",
    "from tensorflow.keras.models import load_model\n",
    "from flask_cors import CORS\n",
    "\n",
    "\n",
    "app = Flask(__name__)\n",
    "CORS(app)\n",
    "# Load the pre-trained model and class names\n",
    "model = load_model('potatoes.h5')  # Replace with the path to your trained model\n",
    "class_name = ['Potato___Early_blight', 'Potato___Late_blight', 'Potato___healthy']  # Replace with your actual class names\n",
    "\n",
    "def predict(model, img):\n",
    "    img_array = tf.keras.preprocessing.image.img_to_array(img)\n",
    "    img_array = tf.expand_dims(img_array, 0)\n",
    "\n",
    "    predictions = model.predict(img_array)\n",
    "\n",
    "    predicted_class = class_name[np.argmax(predictions[0])]\n",
    "    confidence = round(100 * (np.max(predictions[0])), 2)\n",
    "    return predicted_class, confidence\n",
    "\n",
    "@app.route('/predict', methods=['POST'])\n",
    "def predict_image():\n",
    "    file = request.files['file']\n",
    "\n",
    "    # Convert the uploaded image to a format compatible with the prediction function\n",
    "    img = tf.keras.preprocessing.image.load_img(file, target_size=(image_height, image_width))\n",
    "    img_array = tf.keras.preprocessing.image.img_to_array(img)\n",
    "\n",
    "    # Perform the prediction using the predict function\n",
    "    predicted_class, confidence = predict(model, img_array)\n",
    "\n",
    "    # Create the response JSON\n",
    "    response_data = {\n",
    "        'predicted_class': predicted_class,\n",
    "        'confidence': confidence\n",
    "    }\n",
    "\n",
    "    return jsonify(response_data)\n",
    "\n",
    "if __name__ == '__main__':\n",
    "    app.run()\n"
   ]
  },
  {
   "cell_type": "code",
   "execution_count": null,
   "id": "be51f25f",
   "metadata": {},
   "outputs": [],
   "source": [
    "import requests\n",
    "\n",
    "# Replace this with the actual URL of your Flask API endpoint\n",
    "url = 'http://127.0.0.1:5000/predict'\n",
    "\n",
    "# Replace this with the path to your image file\n",
    "image_path = 'testing.jpg'\n",
    "\n",
    "# Send the POST request with the image file\n",
    "files = {'file': open(image_path, 'rb')}\n",
    "response = requests.post(url, files=files)\n",
    "\n",
    "# Print the response (JSON format)\n",
    "print(response.json())\n"
   ]
  },
  {
   "cell_type": "code",
   "execution_count": null,
   "id": "dc65f607",
   "metadata": {},
   "outputs": [],
   "source": []
  }
 ],
 "metadata": {
  "kernelspec": {
   "display_name": "Python 3 (ipykernel)",
   "language": "python",
   "name": "python3"
  },
  "language_info": {
   "codemirror_mode": {
    "name": "ipython",
    "version": 3
   },
   "file_extension": ".py",
   "mimetype": "text/x-python",
   "name": "python",
   "nbconvert_exporter": "python",
   "pygments_lexer": "ipython3",
   "version": "3.9.12"
  },
  "toc": {
   "base_numbering": 1,
   "nav_menu": {},
   "number_sections": true,
   "sideBar": true,
   "skip_h1_title": false,
   "title_cell": "Table of Contents",
   "title_sidebar": "Contents",
   "toc_cell": false,
   "toc_position": {},
   "toc_section_display": true,
   "toc_window_display": false
  }
 },
 "nbformat": 4,
 "nbformat_minor": 5
}
